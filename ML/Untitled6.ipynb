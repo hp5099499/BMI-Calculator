{
 "cells": [
  {
   "cell_type": "code",
   "execution_count": 38,
   "id": "87dc36c4",
   "metadata": {},
   "outputs": [
    {
     "data": {
      "text/html": [
       "<div>\n",
       "<style scoped>\n",
       "    .dataframe tbody tr th:only-of-type {\n",
       "        vertical-align: middle;\n",
       "    }\n",
       "\n",
       "    .dataframe tbody tr th {\n",
       "        vertical-align: top;\n",
       "    }\n",
       "\n",
       "    .dataframe thead th {\n",
       "        text-align: right;\n",
       "    }\n",
       "</style>\n",
       "<table border=\"1\" class=\"dataframe\">\n",
       "  <thead>\n",
       "    <tr style=\"text-align: right;\">\n",
       "      <th></th>\n",
       "      <th>Year</th>\n",
       "      <th>Ross WAIS</th>\n",
       "      <th>Withrow</th>\n",
       "      <th>Sulzberger</th>\n",
       "      <th>Nickerson</th>\n",
       "      <th>Getz</th>\n",
       "      <th>Dotson</th>\n",
       "      <th>Crosson</th>\n",
       "      <th>Thwaites</th>\n",
       "      <th>Pine Island</th>\n",
       "      <th>...</th>\n",
       "      <th>Ross</th>\n",
       "      <th>Amundsen</th>\n",
       "      <th>Bellingshausen</th>\n",
       "      <th>Larsen</th>\n",
       "      <th>Filchner-Ronne</th>\n",
       "      <th>Queen Maud</th>\n",
       "      <th>Wilkes</th>\n",
       "      <th>West Antarctica</th>\n",
       "      <th>East Antarctica</th>\n",
       "      <th>All Antarctica</th>\n",
       "    </tr>\n",
       "  </thead>\n",
       "  <tbody>\n",
       "    <tr>\n",
       "      <th>0</th>\n",
       "      <td>1994.038</td>\n",
       "      <td>0.169</td>\n",
       "      <td>2.581</td>\n",
       "      <td>-0.229</td>\n",
       "      <td>-0.261</td>\n",
       "      <td>1.362</td>\n",
       "      <td>3.128</td>\n",
       "      <td>3.569</td>\n",
       "      <td>3.463</td>\n",
       "      <td>1.790</td>\n",
       "      <td>...</td>\n",
       "      <td>0.177</td>\n",
       "      <td>2.136</td>\n",
       "      <td>0.924</td>\n",
       "      <td>0.452</td>\n",
       "      <td>-0.082</td>\n",
       "      <td>-0.169</td>\n",
       "      <td>-0.280</td>\n",
       "      <td>0.272</td>\n",
       "      <td>-0.091</td>\n",
       "      <td>0.144</td>\n",
       "    </tr>\n",
       "    <tr>\n",
       "      <th>1</th>\n",
       "      <td>1994.285</td>\n",
       "      <td>0.169</td>\n",
       "      <td>2.397</td>\n",
       "      <td>-0.144</td>\n",
       "      <td>-0.131</td>\n",
       "      <td>1.158</td>\n",
       "      <td>2.146</td>\n",
       "      <td>2.854</td>\n",
       "      <td>3.400</td>\n",
       "      <td>1.712</td>\n",
       "      <td>...</td>\n",
       "      <td>0.107</td>\n",
       "      <td>1.524</td>\n",
       "      <td>0.762</td>\n",
       "      <td>0.317</td>\n",
       "      <td>-0.170</td>\n",
       "      <td>-0.166</td>\n",
       "      <td>-0.074</td>\n",
       "      <td>0.193</td>\n",
       "      <td>-0.158</td>\n",
       "      <td>0.050</td>\n",
       "    </tr>\n",
       "    <tr>\n",
       "      <th>2</th>\n",
       "      <td>1994.534</td>\n",
       "      <td>0.169</td>\n",
       "      <td>1.270</td>\n",
       "      <td>-0.172</td>\n",
       "      <td>-0.173</td>\n",
       "      <td>1.228</td>\n",
       "      <td>2.198</td>\n",
       "      <td>2.223</td>\n",
       "      <td>3.259</td>\n",
       "      <td>1.159</td>\n",
       "      <td>...</td>\n",
       "      <td>0.096</td>\n",
       "      <td>1.557</td>\n",
       "      <td>0.744</td>\n",
       "      <td>0.426</td>\n",
       "      <td>-0.129</td>\n",
       "      <td>-0.082</td>\n",
       "      <td>-0.199</td>\n",
       "      <td>0.211</td>\n",
       "      <td>-0.115</td>\n",
       "      <td>0.077</td>\n",
       "    </tr>\n",
       "    <tr>\n",
       "      <th>3</th>\n",
       "      <td>1994.786</td>\n",
       "      <td>0.169</td>\n",
       "      <td>3.275</td>\n",
       "      <td>-0.246</td>\n",
       "      <td>-0.438</td>\n",
       "      <td>0.895</td>\n",
       "      <td>2.033</td>\n",
       "      <td>2.548</td>\n",
       "      <td>3.020</td>\n",
       "      <td>1.582</td>\n",
       "      <td>...</td>\n",
       "      <td>0.043</td>\n",
       "      <td>1.287</td>\n",
       "      <td>0.522</td>\n",
       "      <td>0.201</td>\n",
       "      <td>-0.173</td>\n",
       "      <td>-0.183</td>\n",
       "      <td>-0.180</td>\n",
       "      <td>0.109</td>\n",
       "      <td>-0.159</td>\n",
       "      <td>-0.000</td>\n",
       "    </tr>\n",
       "    <tr>\n",
       "      <th>4</th>\n",
       "      <td>1995.038</td>\n",
       "      <td>0.184</td>\n",
       "      <td>0.919</td>\n",
       "      <td>0.063</td>\n",
       "      <td>-0.011</td>\n",
       "      <td>1.401</td>\n",
       "      <td>2.530</td>\n",
       "      <td>3.597</td>\n",
       "      <td>3.676</td>\n",
       "      <td>1.885</td>\n",
       "      <td>...</td>\n",
       "      <td>0.078</td>\n",
       "      <td>1.806</td>\n",
       "      <td>0.824</td>\n",
       "      <td>0.595</td>\n",
       "      <td>-0.174</td>\n",
       "      <td>-0.190</td>\n",
       "      <td>-0.193</td>\n",
       "      <td>0.211</td>\n",
       "      <td>-0.149</td>\n",
       "      <td>0.065</td>\n",
       "    </tr>\n",
       "  </tbody>\n",
       "</table>\n",
       "<p>5 rows × 51 columns</p>\n",
       "</div>"
      ],
      "text/plain": [
       "       Year  Ross WAIS  Withrow  Sulzberger  Nickerson   Getz  Dotson  \\\n",
       "0  1994.038      0.169    2.581      -0.229     -0.261  1.362   3.128   \n",
       "1  1994.285      0.169    2.397      -0.144     -0.131  1.158   2.146   \n",
       "2  1994.534      0.169    1.270      -0.172     -0.173  1.228   2.198   \n",
       "3  1994.786      0.169    3.275      -0.246     -0.438  0.895   2.033   \n",
       "4  1995.038      0.184    0.919       0.063     -0.011  1.401   2.530   \n",
       "\n",
       "   Crosson  Thwaites  Pine Island  ...   Ross  Amundsen  Bellingshausen  \\\n",
       "0    3.569     3.463        1.790  ...  0.177     2.136           0.924   \n",
       "1    2.854     3.400        1.712  ...  0.107     1.524           0.762   \n",
       "2    2.223     3.259        1.159  ...  0.096     1.557           0.744   \n",
       "3    2.548     3.020        1.582  ...  0.043     1.287           0.522   \n",
       "4    3.597     3.676        1.885  ...  0.078     1.806           0.824   \n",
       "\n",
       "   Larsen  Filchner-Ronne  Queen Maud  Wilkes  West Antarctica  \\\n",
       "0   0.452          -0.082      -0.169  -0.280            0.272   \n",
       "1   0.317          -0.170      -0.166  -0.074            0.193   \n",
       "2   0.426          -0.129      -0.082  -0.199            0.211   \n",
       "3   0.201          -0.173      -0.183  -0.180            0.109   \n",
       "4   0.595          -0.174      -0.190  -0.193            0.211   \n",
       "\n",
       "   East Antarctica  All Antarctica  \n",
       "0           -0.091           0.144  \n",
       "1           -0.158           0.050  \n",
       "2           -0.115           0.077  \n",
       "3           -0.159          -0.000  \n",
       "4           -0.149           0.065  \n",
       "\n",
       "[5 rows x 51 columns]"
      ]
     },
     "execution_count": 38,
     "metadata": {},
     "output_type": "execute_result"
    }
   ],
   "source": [
    "import pandas as pd\n",
    "dataset_url = 'https://sealevel-nexus.jpl.nasa.gov/data/ice_shelf_dh_mean_v1/ice_shelf_dh_mean_v1_height.csv'\n",
    "dataset = pd.read_csv(dataset_url)\n",
    "dataset.head()"
   ]
  },
  {
   "cell_type": "code",
   "execution_count": 39,
   "id": "3776ea52",
   "metadata": {},
   "outputs": [],
   "source": [
    "import numpy as np\n",
    "N=dataset.shape[0]\n",
    "x=np.array(dataset['Year']).reshape([N,1])\n",
    "y=np.array(dataset['All Antarctica']).reshape([N,1])\n",
    "points=np.hstack([x,y])"
   ]
  },
  {
   "cell_type": "markdown",
   "id": "db601e0f",
   "metadata": {},
   "source": [
    "Creating the Model - Least Squares Estimation\n",
    "Solve the Least Squares Regression by Hand\n"
   ]
  },
  {
   "cell_type": "code",
   "execution_count": 40,
   "id": "6d3e18fe",
   "metadata": {},
   "outputs": [],
   "source": [
    "x0 = np.sum(x**0)\n",
    "x1 = np.sum(x**1)\n",
    "x2 = np.sum(x**2)\n",
    "x3 = np.sum(x**3)\n",
    "x4 = np.sum(x**4)\n",
    "yx0 = np.sum(y * x**0)\n",
    "yx1 = np.sum(y * x**1)\n",
    "yx2 = np.sum(y * x**2)"
   ]
  },
  {
   "cell_type": "code",
   "execution_count": 41,
   "id": "84942627",
   "metadata": {},
   "outputs": [],
   "source": [
    "# Create 3rd order model matrices.\n",
    "A = [[x0, x1, x2], [x1, x2, x3], [x2, x3, x4]]\n",
    "B = [[yx0], [yx1], [yx2]]\n",
    "# Obtain Model Coefficients\n",
    "import numpy.linalg as lin\n",
    "M = np.matmul(lin.inv(A), B)"
   ]
  },
  {
   "cell_type": "markdown",
   "id": "8a837fb8",
   "metadata": {},
   "source": [
    "Simulate the Estimated Curve"
   ]
  },
  {
   "cell_type": "code",
   "execution_count": 42,
   "id": "8aa86b09",
   "metadata": {},
   "outputs": [
    {
     "data": {
      "image/png": "[encoded data removed]",
      "text/plain": [
       "<Figure size 640x480 with 1 Axes>"
      ]
     },
     "metadata": {},
     "output_type": "display_data"
    }
   ],
   "source": [
    "#To visualize the result, we can create y_estimated\n",
    "import matplotlib.pyplot as plt\n",
    "y_estimated = x**0 * M[0] + x**1 * M[1] + x**2 * M[2]\n",
    "plt.plot(x, y, x, y_estimated)\n",
    "plt.show()"
   ]
  },
  {
   "cell_type": "markdown",
   "id": "09f20149",
   "metadata": {},
   "source": [
    "Prediction of Future Values\n"
   ]
  },
  {
   "cell_type": "code",
   "execution_count": 43,
   "id": "ef635a11",
   "metadata": {},
   "outputs": [],
   "source": [
    "y2020 = 2020**0 * M[0] + 2020**1 * M[1] + 2020**2 * M[2]"
   ]
  },
  {
   "cell_type": "markdown",
   "id": "3dbc43cd",
   "metadata": {},
   "source": [
    "RMS Error"
   ]
  },
  {
   "cell_type": "code",
   "execution_count": 45,
   "id": "12980a32",
   "metadata": {},
   "outputs": [
    {
     "ename": "NameError",
     "evalue": "name 'yest' is not defined",
     "output_type": "error",
     "traceback": [
      "\u001b[1;31m---------------------------------------------------------------------------\u001b[0m",
      "\u001b[1;31mNameError\u001b[0m                                 Traceback (most recent call last)",
      "Cell \u001b[1;32mIn[45], line 2\u001b[0m\n\u001b[0;32m      1\u001b[0m \u001b[38;5;66;03m#To see the overall performance of the fit, we can simply take root-mean-square of the error.\u001b[39;00m\n\u001b[1;32m----> 2\u001b[0m rmse \u001b[38;5;241m=\u001b[39m (np\u001b[38;5;241m.\u001b[39msum((\u001b[43myest\u001b[49m \u001b[38;5;241m-\u001b[39m y) \u001b[38;5;241m*\u001b[39m\u001b[38;5;241m*\u001b[39m\u001b[38;5;241m2\u001b[39m) \u001b[38;5;241m/\u001b[39m \u001b[38;5;28mlen\u001b[39m(y)) \u001b[38;5;241m*\u001b[39m\u001b[38;5;241m*\u001b[39m \u001b[38;5;241m0.5\u001b[39m\n",
      "\u001b[1;31mNameError\u001b[0m: name 'yest' is not defined"
     ]
    }
   ],
   "source": [
    "#To see the overall performance of the fit, we can simply take root-mean-square of the error.\n",
    "rmse = (np.sum((yest - y) **2) / len(y)) ** 0.5"
   ]
  },
  {
   "cell_type": "code",
   "execution_count": 46,
   "id": "20e01b4b",
   "metadata": {},
   "outputs": [
    {
     "data": {
      "text/plain": [
       "0.5828191135755008"
      ]
     },
     "execution_count": 46,
     "metadata": {},
     "output_type": "execute_result"
    }
   ],
   "source": [
    "rmse"
   ]
  },
  {
   "cell_type": "code",
   "execution_count": null,
   "id": "21b6d0bf",
   "metadata": {},
   "outputs": [],
   "source": [
    "    "
   ]
  },
  {
   "cell_type": "code",
   "execution_count": null,
   "id": "4380f2a6",
   "metadata": {},
   "outputs": [],
   "source": []
  }
 ],
 "metadata": {
  "kernelspec": {
   "display_name": "Python 3 (ipykernel)",
   "language": "python",
   "name": "python3"
  },
  "language_info": {
   "codemirror_mode": {
    "name": "ipython",
    "version": 3
   },
   "file_extension": ".py",
   "mimetype": "text/x-python",
   "name": "python",
   "nbconvert_exporter": "python",
   "pygments_lexer": "ipython3",
   "version": "3.11.4"
  }
 },
 "nbformat": 4,
 "nbformat_minor": 5
}

{
 "cells": [
  {
   "cell_type": "markdown",
   "id": "f46d8e4e",
   "metadata": {},
   "source": [
    "# creating 1d array\n",
    "import numpy as np\n",
    "arr=np.array([1,2,3,4,5])\n",
    "print(arr)"
   ]
  },
  {
   "cell_type": "markdown",
   "id": "80f15aa9",
   "metadata": {},
   "source": [
    "# creating 0d array"
   ]
  },
  {
   "cell_type": "code",
   "execution_count": 2,
   "id": "554ea8db",
   "metadata": {},
   "outputs": [
    {
     "name": "stdout",
     "output_type": "stream",
     "text": [
      "23\n"
     ]
    }
   ],
   "source": [
    "arr=np.array(23)\n",
    "print(arr)"
   ]
  },
  {
   "cell_type": "markdown",
   "id": "c8344fcd",
   "metadata": {},
   "source": [
    "# creating 2d array\n",
    "arr=np.array([[1,2,3,4,5],[2,4,6,8,10]])\n",
    "print(arr)"
   ]
  },
  {
   "cell_type": "code",
   "execution_count": 4,
   "id": "d2f0bc0f",
   "metadata": {},
   "outputs": [
    {
     "name": "stdout",
     "output_type": "stream",
     "text": [
      "[[ 1  2  3  4  5]\n",
      " [ 2  4  6  8 10]]\n"
     ]
    }
   ],
   "source": [
    "arr=np.array([[1,2,3,4,5],[2,4,6,8,10]])\n",
    "print(arr)"
   ]
  },
  {
   "cell_type": "markdown",
   "id": "59cbc555",
   "metadata": {},
   "source": [
    "# creating 3d array"
   ]
  },
  {
   "cell_type": "code",
   "execution_count": 5,
   "id": "a71f4ed6",
   "metadata": {},
   "outputs": [
    {
     "name": "stdout",
     "output_type": "stream",
     "text": [
      "[[[ 1  2  3  4  5]\n",
      "  [ 2  4  6  8 10]]\n",
      "\n",
      " [[ 2  3  4  5  6]\n",
      "  [ 6  5  4  3  2]]]\n"
     ]
    }
   ],
   "source": [
    "arr=np.array([[[1,2,3,4,5],[2,4,6,8,10]],[[2,3,4,5,6],[6,5,4,3,2]]]) \n",
    "print(arr)"
   ]
  },
  {
   "cell_type": "code",
   "execution_count": 6,
   "id": "8c478c05",
   "metadata": {},
   "outputs": [
    {
     "name": "stdout",
     "output_type": "stream",
     "text": [
      "(2, 2, 5)\n"
     ]
    }
   ],
   "source": [
    "print(arr.shape)"
   ]
  },
  {
   "cell_type": "code",
   "execution_count": 7,
   "id": "4d857b58",
   "metadata": {},
   "outputs": [
    {
     "name": "stdout",
     "output_type": "stream",
     "text": [
      "3\n"
     ]
    }
   ],
   "source": [
    "print(arr.ndim)"
   ]
  },
  {
   "cell_type": "code",
   "execution_count": 8,
   "id": "9693aff2",
   "metadata": {},
   "outputs": [
    {
     "name": "stdout",
     "output_type": "stream",
     "text": [
      "20\n"
     ]
    }
   ],
   "source": [
    "print(arr.size)"
   ]
  },
  {
   "cell_type": "code",
   "execution_count": 9,
   "id": "c5129ce0",
   "metadata": {},
   "outputs": [
    {
     "name": "stdout",
     "output_type": "stream",
     "text": [
      "int32\n"
     ]
    }
   ],
   "source": [
    "print(arr.dtype)"
   ]
  },
  {
   "cell_type": "code",
   "execution_count": 10,
   "id": "1a59eede",
   "metadata": {},
   "outputs": [
    {
     "name": "stdout",
     "output_type": "stream",
     "text": [
      "4\n"
     ]
    }
   ],
   "source": [
    "print(arr.itemsize)"
   ]
  },
  {
   "cell_type": "markdown",
   "id": "857c3c20",
   "metadata": {},
   "source": [
    "# import the dataset using pandas"
   ]
  },
  {
   "cell_type": "code",
   "execution_count": 11,
   "id": "9a98c65f",
   "metadata": {},
   "outputs": [
    {
     "name": "stdout",
     "output_type": "stream",
     "text": [
      "   index             Order ID  Cust ID Gender  Age        Date     Status  \\\n",
      "0      1  171-1029312-3038738  1029312  Women   44  04-12-2022  Delivered   \n",
      "1      2  405-2183842-2225946  2183842  Women   29  04-12-2022  Delivered   \n",
      "2      3  171-1641533-8921966  1641533  Women   67  04-12-2022  Delivered   \n",
      "3      4  404-7490807-6300351  7490807  Women   20  04-12-2022  Delivered   \n",
      "4      5  403-9293516-4577154  9293516  Women   62  04-12-2022  Delivered   \n",
      "5      6  407-1298130-0368305  1298130    Men   49  04-12-2022  Delivered   \n",
      "6      7  407-1298130-0368305  1298130      W   23  04-12-2022  Delivered   \n",
      "7      8  171-5561216-3398711  5561216      W   70  04-12-2022  Delivered   \n",
      "8      9  408-2935263-2935550  2935263      W   75  04-12-2022  Delivered   \n",
      "9     10  404-2648970-9042715  2648970      W   43  04-12-2022  Delivered   \n",
      "\n",
      "   Channel                       SKU       Category Size  Qty currency  \\\n",
      "0    Myntra  JNE1233-BLUE-KR-031-XXL          kurta  XXL    1      INR   \n",
      "1      Ajio           SET414-KR-NP-L            Set    L    1      INR   \n",
      "2    Myntra           SET261-KR-PP-S            Set    S    1      INR   \n",
      "3    Amazon           SET110-KR-PP-M            Set    M    1      INR   \n",
      "4    Myntra         JNE2294-KR-A-XXL          kurta  XXL    1      INR   \n",
      "5  Flipkart           JNE3797-KR-XXL  Western Dress  XXL  One      INR   \n",
      "6    Meesho           JNE3801-KR-XXL          kurta  XXL  One      INR   \n",
      "7    Others             JNE3405-KR-M          kurta    M  One      INR   \n",
      "8    Amazon          JNE3474-KR-E-XL          kurta   XL  One      INR   \n",
      "9    Myntra             JNE3466-KR-L          kurta    L  One      INR   \n",
      "\n",
      "   Amount            ship-city      ship-state  ship-postal-code ship-country  \\\n",
      "0     376               MOHALI          PUNJAB            140301           IN   \n",
      "1    1449             GURUGRAM         HARYANA            122002           IN   \n",
      "2     453              KOLKATA     WEST BENGAL            700029           IN   \n",
      "3     729            THANJAVUR      TAMIL NADU            613007           IN   \n",
      "4     544             GURUGRAM         HARYANA            122001           IN   \n",
      "5     735  SANGLI MIRAJ KUPWAD     MAHARASHTRA            416436           IN   \n",
      "6     735            BENGALURU       KARNATAKA            560029           IN   \n",
      "7     435             GURUGRAM         HARYANA            122001           IN   \n",
      "8     385            BENGALURU       KARNATAKA            562149           IN   \n",
      "9     771           VIJAYAWADA  ANDHRA PRADESH            520002           IN   \n",
      "\n",
      "     B2B  \n",
      "0  False  \n",
      "1  False  \n",
      "2  False  \n",
      "3  False  \n",
      "4  False  \n",
      "5  False  \n",
      "6  False  \n",
      "7  False  \n",
      "8  False  \n",
      "9  False  \n"
     ]
    }
   ],
   "source": [
    "import pandas as pd\n",
    "ps=pd.read_csv(\"data.csv\",header=0,sep=\",\")\n",
    "print(ps.head(10))"
   ]
  },
  {
   "cell_type": "code",
   "execution_count": 12,
   "id": "75a253ed",
   "metadata": {},
   "outputs": [
    {
     "name": "stdout",
     "output_type": "stream",
     "text": [
      "       index             Order ID  Cust ID Gender  Age        Date     Status  \\\n",
      "31037  31038  405-6870909-7366760  6870909      M   73  06-01-2022  Delivered   \n",
      "31038  31039  406-3695146-6880344  3695146      W   31  06-01-2022  Delivered   \n",
      "31039  31040  405-7447678-6283558  7447678      M   30  06-01-2022  Delivered   \n",
      "31040  31041  405-4837393-8997115  4837393      M   60  06-01-2022  Delivered   \n",
      "31041  31042  405-4724097-1016369  4724097      W   46  06-01-2022  Delivered   \n",
      "31042  31043  405-4724097-1016369  4724097      M   60  06-01-2022  Delivered   \n",
      "31043  31044  405-4724097-1016369  4724097      M   34  06-01-2022  Delivered   \n",
      "31044  31045  408-3572295-5992330  3572295      M   29  06-01-2022  Delivered   \n",
      "31045  31046  405-1423498-9705162  1423498      M   46  06-01-2022  Delivered   \n",
      "31046  31047  408-4694875-8249153  4694875      M   36  06-01-2022  Delivered   \n",
      "\n",
      "       Channel              SKU       Category Size  Qty currency  Amount  \\\n",
      "31037    Myntra   JNE3798-KR-XL  Western Dress   XL    1      INR     735   \n",
      "31038  Flipkart    JNE3745-KR-S          kurta    S    1      INR     292   \n",
      "31039    Myntra    JNE3676-TU-S            Top    S    1      INR     385   \n",
      "31040      Ajio    MEN5027-KR-M          kurta    M  One      INR     495   \n",
      "31041    Myntra     J0277-SKD-S            Set    S  One      INR    1333   \n",
      "31042  Flipkart     J0083-KR-XL          kurta   XL  One      INR     565   \n",
      "31043    Myntra     J0010-LCD-S            Set    S  One      INR     939   \n",
      "31044    Amazon  SET398-KR-PP-L            Set    L  One      INR    1115   \n",
      "31045    Amazon    JNE3568-KR-M          kurta    M  One      INR     399   \n",
      "31046  Flipkart   J0341-DR-XXXL  Western Dress  3XL  One      INR     791   \n",
      "\n",
      "         ship-city     ship-state  ship-postal-code ship-country    B2B  \n",
      "31037       KANPUR  UTTAR PRADESH            208001           IN  False  \n",
      "31038     VADODARA        GUJARAT            390020           IN  False  \n",
      "31039    Hyderabad      TELANGANA            500015           IN  False  \n",
      "31040    HYDERABAD      TELANGANA            500084           IN  False  \n",
      "31041     VADODARA        GUJARAT            390008           IN  False  \n",
      "31042         PUNE    MAHARASHTRA            412307           IN  False  \n",
      "31043    BENGALURU      KARNATAKA            560061           IN  False  \n",
      "31044  PITHORAGARH    UTTARAKHAND            262501           IN  False  \n",
      "31045        DHULE    MAHARASHTRA            424006           IN  False  \n",
      "31046     WARANGAL      TELANGANA            506001           IN  False  \n"
     ]
    }
   ],
   "source": [
    "print(ps.tail(10))"
   ]
  },
  {
   "cell_type": "code",
   "execution_count": 13,
   "id": "f83fc9f9",
   "metadata": {},
   "outputs": [
    {
     "name": "stdout",
     "output_type": "stream",
     "text": [
      "Index(['index', 'Order ID', 'Cust ID', 'Gender', 'Age', 'Date', 'Status',\n",
      "       'Channel ', 'SKU', 'Category', 'Size', 'Qty', 'currency', 'Amount',\n",
      "       'ship-city', 'ship-state', 'ship-postal-code', 'ship-country', 'B2B'],\n",
      "      dtype='object')\n"
     ]
    }
   ],
   "source": [
    "print(ps.columns)"
   ]
  },
  {
   "cell_type": "code",
   "execution_count": 14,
   "id": "e6679bd7",
   "metadata": {},
   "outputs": [
    {
     "name": "stdout",
     "output_type": "stream",
     "text": [
      "(31047, 19)\n"
     ]
    }
   ],
   "source": [
    "print(ps.shape)"
   ]
  },
  {
   "cell_type": "code",
   "execution_count": 15,
   "id": "3b52bae3",
   "metadata": {},
   "outputs": [
    {
     "name": "stdout",
     "output_type": "stream",
     "text": [
      "<class 'pandas.core.frame.DataFrame'>\n",
      "RangeIndex: 31047 entries, 0 to 31046\n",
      "Data columns (total 19 columns):\n",
      " #   Column            Non-Null Count  Dtype \n",
      "---  ------            --------------  ----- \n",
      " 0   index             31047 non-null  int64 \n",
      " 1   Order ID          31047 non-null  object\n",
      " 2   Cust ID           31047 non-null  int64 \n",
      " 3   Gender            31047 non-null  object\n",
      " 4   Age               31047 non-null  int64 \n",
      " 5   Date              31047 non-null  object\n",
      " 6   Status            31047 non-null  object\n",
      " 7   Channel           31047 non-null  object\n",
      " 8   SKU               31047 non-null  object\n",
      " 9   Category          31047 non-null  object\n",
      " 10  Size              31047 non-null  object\n",
      " 11  Qty               31047 non-null  object\n",
      " 12  currency          31047 non-null  object\n",
      " 13  Amount            31047 non-null  int64 \n",
      " 14  ship-city         31047 non-null  object\n",
      " 15  ship-state        31047 non-null  object\n",
      " 16  ship-postal-code  31047 non-null  int64 \n",
      " 17  ship-country      31047 non-null  object\n",
      " 18  B2B               31047 non-null  bool  \n",
      "dtypes: bool(1), int64(5), object(13)\n",
      "memory usage: 4.3+ MB\n",
      "None\n"
     ]
    }
   ],
   "source": [
    "print(ps.info())"
   ]
  },
  {
   "cell_type": "code",
   "execution_count": 16,
   "id": "db3e08a1",
   "metadata": {},
   "outputs": [
    {
     "name": "stdout",
     "output_type": "stream",
     "text": [
      "             index       Cust ID           Age        Amount  ship-postal-code\n",
      "count  31047.00000  3.104700e+04  31047.000000  31047.000000      31047.000000\n",
      "mean   15524.00000  4.936824e+06     39.496570    682.074822     460474.587206\n",
      "std     8962.64124  2.900678e+06     15.117233    268.582173     198116.733009\n",
      "min        1.00000  8.950000e+02     18.000000    229.000000     110001.000000\n",
      "25%     7762.50000  2.416471e+06     28.000000    486.000000     313001.000000\n",
      "50%    15524.00000  4.909885e+06     37.000000    646.000000     500028.000000\n",
      "75%    23285.50000  7.454182e+06     47.000000    794.000000     600040.000000\n",
      "max    31047.00000  9.999233e+06     78.000000   3036.000000     855117.000000\n"
     ]
    }
   ],
   "source": [
    "print(ps.describe())"
   ]
  },
  {
   "cell_type": "markdown",
   "id": "38a0148f",
   "metadata": {},
   "source": [
    "# #Understanding Pandas series and dataframe"
   ]
  },
  {
   "cell_type": "code",
   "execution_count": 17,
   "id": "3829b5d9",
   "metadata": {},
   "outputs": [
    {
     "name": "stdout",
     "output_type": "stream",
     "text": [
      "0      Aman\n",
      "1    Shivam\n",
      "2     Ritik\n",
      "3     Rohan\n",
      "dtype: object\n"
     ]
    }
   ],
   "source": [
    "import pandas as pd \n",
    "import matplotlib.pyplot as plt\n",
    "author=['Aman','Shivam','Ritik','Rohan']\n",
    "auth_series=pd.Series(author)\n",
    "print(auth_series)"
   ]
  },
  {
   "cell_type": "code",
   "execution_count": 18,
   "id": "ad9fcc01",
   "metadata": {},
   "outputs": [
    {
     "name": "stdout",
     "output_type": "stream",
     "text": [
      "<class 'pandas.core.series.Series'>\n"
     ]
    }
   ],
   "source": [
    "print(type(auth_series))"
   ]
  },
  {
   "cell_type": "code",
   "execution_count": 8,
   "id": "f947909b",
   "metadata": {},
   "outputs": [
    {
     "name": "stdout",
     "output_type": "stream",
     "text": [
      "   author  article\n",
      "0    Aman      210\n",
      "1  Shivam      211\n",
      "2   Ritik      114\n",
      "3   Rohan      178\n"
     ]
    }
   ],
   "source": [
    "import pandas as pd\n",
    "import matplotlib.pyplot as plt\n",
    "author=['Aman','Shivam','Ritik','Rohan']\n",
    "article=[210,211,114,178]\n",
    "a=pd.Series(author)\n",
    "b=pd.Series(article)\n",
    "f={'author':a,'article':b}\n",
    "result=pd.DataFrame(f)\n",
    "print(result)"
   ]
  },
  {
   "cell_type": "code",
   "execution_count": 13,
   "id": "5246ff14",
   "metadata": {},
   "outputs": [
    {
     "name": "stdout",
     "output_type": "stream",
     "text": [
      "   author  article  age gender\n",
      "0    Aman      210   21      m\n",
      "1  Shivam      211   23      m\n",
      "2   Ritik      114   22      m\n",
      "3   Rohan      178   24    NaN\n"
     ]
    }
   ],
   "source": [
    "age=[21,23,22,24]\n",
    "gender=['m','m','m']\n",
    "result['age']=pd.Series(age)\n",
    "result['gender']=pd.Series(gender)\n",
    "print(result)"
   ]
  },
  {
   "cell_type": "code",
   "execution_count": 14,
   "id": "97fa3389",
   "metadata": {},
   "outputs": [
    {
     "data": {
      "image/png": "[encoded data removed]",
      "text/plain": [
       "<Figure size 640x480 with 1 Axes>"
      ]
     },
     "metadata": {},
     "output_type": "display_data"
    }
   ],
   "source": [
    "result.plot.bar()\n",
    "plt.show()"
   ]
  },
  {
   "cell_type": "code",
   "execution_count": 16,
   "id": "d88b2c10",
   "metadata": {},
   "outputs": [
    {
     "data": {
      "text/html": [
       "<div>\n",
       "<style scoped>\n",
       "    .dataframe tbody tr th:only-of-type {\n",
       "        vertical-align: middle;\n",
       "    }\n",
       "\n",
       "    .dataframe tbody tr th {\n",
       "        vertical-align: top;\n",
       "    }\n",
       "\n",
       "    .dataframe thead th {\n",
       "        text-align: right;\n",
       "    }\n",
       "</style>\n",
       "<table border=\"1\" class=\"dataframe\">\n",
       "  <thead>\n",
       "    <tr style=\"text-align: right;\">\n",
       "      <th></th>\n",
       "      <th>index</th>\n",
       "      <th>Order ID</th>\n",
       "      <th>Cust ID</th>\n",
       "      <th>Gender</th>\n",
       "      <th>Age</th>\n",
       "      <th>Date</th>\n",
       "      <th>Status</th>\n",
       "      <th>Channel</th>\n",
       "      <th>SKU</th>\n",
       "      <th>Category</th>\n",
       "      <th>Size</th>\n",
       "      <th>Qty</th>\n",
       "      <th>currency</th>\n",
       "      <th>Amount</th>\n",
       "      <th>ship-city</th>\n",
       "      <th>ship-state</th>\n",
       "      <th>ship-postal-code</th>\n",
       "      <th>ship-country</th>\n",
       "      <th>B2B</th>\n",
       "    </tr>\n",
       "  </thead>\n",
       "  <tbody>\n",
       "    <tr>\n",
       "      <th>0</th>\n",
       "      <td>1</td>\n",
       "      <td>171-1029312-3038738</td>\n",
       "      <td>1029312</td>\n",
       "      <td>Women</td>\n",
       "      <td>44</td>\n",
       "      <td>04-12-2022</td>\n",
       "      <td>Delivered</td>\n",
       "      <td>Myntra</td>\n",
       "      <td>JNE1233-BLUE-KR-031-XXL</td>\n",
       "      <td>kurta</td>\n",
       "      <td>XXL</td>\n",
       "      <td>1</td>\n",
       "      <td>INR</td>\n",
       "      <td>376</td>\n",
       "      <td>MOHALI</td>\n",
       "      <td>PUNJAB</td>\n",
       "      <td>140301</td>\n",
       "      <td>IN</td>\n",
       "      <td>False</td>\n",
       "    </tr>\n",
       "    <tr>\n",
       "      <th>1</th>\n",
       "      <td>2</td>\n",
       "      <td>405-2183842-2225946</td>\n",
       "      <td>2183842</td>\n",
       "      <td>Women</td>\n",
       "      <td>29</td>\n",
       "      <td>04-12-2022</td>\n",
       "      <td>Delivered</td>\n",
       "      <td>Ajio</td>\n",
       "      <td>SET414-KR-NP-L</td>\n",
       "      <td>Set</td>\n",
       "      <td>L</td>\n",
       "      <td>1</td>\n",
       "      <td>INR</td>\n",
       "      <td>1449</td>\n",
       "      <td>GURUGRAM</td>\n",
       "      <td>HARYANA</td>\n",
       "      <td>122002</td>\n",
       "      <td>IN</td>\n",
       "      <td>False</td>\n",
       "    </tr>\n",
       "    <tr>\n",
       "      <th>2</th>\n",
       "      <td>3</td>\n",
       "      <td>171-1641533-8921966</td>\n",
       "      <td>1641533</td>\n",
       "      <td>Women</td>\n",
       "      <td>67</td>\n",
       "      <td>04-12-2022</td>\n",
       "      <td>Delivered</td>\n",
       "      <td>Myntra</td>\n",
       "      <td>SET261-KR-PP-S</td>\n",
       "      <td>Set</td>\n",
       "      <td>S</td>\n",
       "      <td>1</td>\n",
       "      <td>INR</td>\n",
       "      <td>453</td>\n",
       "      <td>KOLKATA</td>\n",
       "      <td>WEST BENGAL</td>\n",
       "      <td>700029</td>\n",
       "      <td>IN</td>\n",
       "      <td>False</td>\n",
       "    </tr>\n",
       "    <tr>\n",
       "      <th>3</th>\n",
       "      <td>4</td>\n",
       "      <td>404-7490807-6300351</td>\n",
       "      <td>7490807</td>\n",
       "      <td>Women</td>\n",
       "      <td>20</td>\n",
       "      <td>04-12-2022</td>\n",
       "      <td>Delivered</td>\n",
       "      <td>Amazon</td>\n",
       "      <td>SET110-KR-PP-M</td>\n",
       "      <td>Set</td>\n",
       "      <td>M</td>\n",
       "      <td>1</td>\n",
       "      <td>INR</td>\n",
       "      <td>729</td>\n",
       "      <td>THANJAVUR</td>\n",
       "      <td>TAMIL NADU</td>\n",
       "      <td>613007</td>\n",
       "      <td>IN</td>\n",
       "      <td>False</td>\n",
       "    </tr>\n",
       "    <tr>\n",
       "      <th>4</th>\n",
       "      <td>5</td>\n",
       "      <td>403-9293516-4577154</td>\n",
       "      <td>9293516</td>\n",
       "      <td>Women</td>\n",
       "      <td>62</td>\n",
       "      <td>04-12-2022</td>\n",
       "      <td>Delivered</td>\n",
       "      <td>Myntra</td>\n",
       "      <td>JNE2294-KR-A-XXL</td>\n",
       "      <td>kurta</td>\n",
       "      <td>XXL</td>\n",
       "      <td>1</td>\n",
       "      <td>INR</td>\n",
       "      <td>544</td>\n",
       "      <td>GURUGRAM</td>\n",
       "      <td>HARYANA</td>\n",
       "      <td>122001</td>\n",
       "      <td>IN</td>\n",
       "      <td>False</td>\n",
       "    </tr>\n",
       "    <tr>\n",
       "      <th>...</th>\n",
       "      <td>...</td>\n",
       "      <td>...</td>\n",
       "      <td>...</td>\n",
       "      <td>...</td>\n",
       "      <td>...</td>\n",
       "      <td>...</td>\n",
       "      <td>...</td>\n",
       "      <td>...</td>\n",
       "      <td>...</td>\n",
       "      <td>...</td>\n",
       "      <td>...</td>\n",
       "      <td>...</td>\n",
       "      <td>...</td>\n",
       "      <td>...</td>\n",
       "      <td>...</td>\n",
       "      <td>...</td>\n",
       "      <td>...</td>\n",
       "      <td>...</td>\n",
       "      <td>...</td>\n",
       "    </tr>\n",
       "    <tr>\n",
       "      <th>31042</th>\n",
       "      <td>31043</td>\n",
       "      <td>405-4724097-1016369</td>\n",
       "      <td>4724097</td>\n",
       "      <td>M</td>\n",
       "      <td>60</td>\n",
       "      <td>06-01-2022</td>\n",
       "      <td>Delivered</td>\n",
       "      <td>Flipkart</td>\n",
       "      <td>J0083-KR-XL</td>\n",
       "      <td>kurta</td>\n",
       "      <td>XL</td>\n",
       "      <td>One</td>\n",
       "      <td>INR</td>\n",
       "      <td>565</td>\n",
       "      <td>PUNE</td>\n",
       "      <td>MAHARASHTRA</td>\n",
       "      <td>412307</td>\n",
       "      <td>IN</td>\n",
       "      <td>False</td>\n",
       "    </tr>\n",
       "    <tr>\n",
       "      <th>31043</th>\n",
       "      <td>31044</td>\n",
       "      <td>405-4724097-1016369</td>\n",
       "      <td>4724097</td>\n",
       "      <td>M</td>\n",
       "      <td>34</td>\n",
       "      <td>06-01-2022</td>\n",
       "      <td>Delivered</td>\n",
       "      <td>Myntra</td>\n",
       "      <td>J0010-LCD-S</td>\n",
       "      <td>Set</td>\n",
       "      <td>S</td>\n",
       "      <td>One</td>\n",
       "      <td>INR</td>\n",
       "      <td>939</td>\n",
       "      <td>BENGALURU</td>\n",
       "      <td>KARNATAKA</td>\n",
       "      <td>560061</td>\n",
       "      <td>IN</td>\n",
       "      <td>False</td>\n",
       "    </tr>\n",
       "    <tr>\n",
       "      <th>31044</th>\n",
       "      <td>31045</td>\n",
       "      <td>408-3572295-5992330</td>\n",
       "      <td>3572295</td>\n",
       "      <td>M</td>\n",
       "      <td>29</td>\n",
       "      <td>06-01-2022</td>\n",
       "      <td>Delivered</td>\n",
       "      <td>Amazon</td>\n",
       "      <td>SET398-KR-PP-L</td>\n",
       "      <td>Set</td>\n",
       "      <td>L</td>\n",
       "      <td>One</td>\n",
       "      <td>INR</td>\n",
       "      <td>1115</td>\n",
       "      <td>PITHORAGARH</td>\n",
       "      <td>UTTARAKHAND</td>\n",
       "      <td>262501</td>\n",
       "      <td>IN</td>\n",
       "      <td>False</td>\n",
       "    </tr>\n",
       "    <tr>\n",
       "      <th>31045</th>\n",
       "      <td>31046</td>\n",
       "      <td>405-1423498-9705162</td>\n",
       "      <td>1423498</td>\n",
       "      <td>M</td>\n",
       "      <td>46</td>\n",
       "      <td>06-01-2022</td>\n",
       "      <td>Delivered</td>\n",
       "      <td>Amazon</td>\n",
       "      <td>JNE3568-KR-M</td>\n",
       "      <td>kurta</td>\n",
       "      <td>M</td>\n",
       "      <td>One</td>\n",
       "      <td>INR</td>\n",
       "      <td>399</td>\n",
       "      <td>DHULE</td>\n",
       "      <td>MAHARASHTRA</td>\n",
       "      <td>424006</td>\n",
       "      <td>IN</td>\n",
       "      <td>False</td>\n",
       "    </tr>\n",
       "    <tr>\n",
       "      <th>31046</th>\n",
       "      <td>31047</td>\n",
       "      <td>408-4694875-8249153</td>\n",
       "      <td>4694875</td>\n",
       "      <td>M</td>\n",
       "      <td>36</td>\n",
       "      <td>06-01-2022</td>\n",
       "      <td>Delivered</td>\n",
       "      <td>Flipkart</td>\n",
       "      <td>J0341-DR-XXXL</td>\n",
       "      <td>Western Dress</td>\n",
       "      <td>3XL</td>\n",
       "      <td>One</td>\n",
       "      <td>INR</td>\n",
       "      <td>791</td>\n",
       "      <td>WARANGAL</td>\n",
       "      <td>TELANGANA</td>\n",
       "      <td>506001</td>\n",
       "      <td>IN</td>\n",
       "      <td>False</td>\n",
       "    </tr>\n",
       "  </tbody>\n",
       "</table>\n",
       "<p>31047 rows × 19 columns</p>\n",
       "</div>"
      ],
      "text/plain": [
       "       index             Order ID  Cust ID Gender  Age        Date     Status  \\\n",
       "0          1  171-1029312-3038738  1029312  Women   44  04-12-2022  Delivered   \n",
       "1          2  405-2183842-2225946  2183842  Women   29  04-12-2022  Delivered   \n",
       "2          3  171-1641533-8921966  1641533  Women   67  04-12-2022  Delivered   \n",
       "3          4  404-7490807-6300351  7490807  Women   20  04-12-2022  Delivered   \n",
       "4          5  403-9293516-4577154  9293516  Women   62  04-12-2022  Delivered   \n",
       "...      ...                  ...      ...    ...  ...         ...        ...   \n",
       "31042  31043  405-4724097-1016369  4724097      M   60  06-01-2022  Delivered   \n",
       "31043  31044  405-4724097-1016369  4724097      M   34  06-01-2022  Delivered   \n",
       "31044  31045  408-3572295-5992330  3572295      M   29  06-01-2022  Delivered   \n",
       "31045  31046  405-1423498-9705162  1423498      M   46  06-01-2022  Delivered   \n",
       "31046  31047  408-4694875-8249153  4694875      M   36  06-01-2022  Delivered   \n",
       "\n",
       "       Channel                       SKU       Category Size  Qty currency  \\\n",
       "0        Myntra  JNE1233-BLUE-KR-031-XXL          kurta  XXL    1      INR   \n",
       "1          Ajio           SET414-KR-NP-L            Set    L    1      INR   \n",
       "2        Myntra           SET261-KR-PP-S            Set    S    1      INR   \n",
       "3        Amazon           SET110-KR-PP-M            Set    M    1      INR   \n",
       "4        Myntra         JNE2294-KR-A-XXL          kurta  XXL    1      INR   \n",
       "...         ...                      ...            ...  ...  ...      ...   \n",
       "31042  Flipkart              J0083-KR-XL          kurta   XL  One      INR   \n",
       "31043    Myntra              J0010-LCD-S            Set    S  One      INR   \n",
       "31044    Amazon           SET398-KR-PP-L            Set    L  One      INR   \n",
       "31045    Amazon             JNE3568-KR-M          kurta    M  One      INR   \n",
       "31046  Flipkart            J0341-DR-XXXL  Western Dress  3XL  One      INR   \n",
       "\n",
       "       Amount    ship-city   ship-state  ship-postal-code ship-country    B2B  \n",
       "0         376       MOHALI       PUNJAB            140301           IN  False  \n",
       "1        1449     GURUGRAM      HARYANA            122002           IN  False  \n",
       "2         453      KOLKATA  WEST BENGAL            700029           IN  False  \n",
       "3         729    THANJAVUR   TAMIL NADU            613007           IN  False  \n",
       "4         544     GURUGRAM      HARYANA            122001           IN  False  \n",
       "...       ...          ...          ...               ...          ...    ...  \n",
       "31042     565         PUNE  MAHARASHTRA            412307           IN  False  \n",
       "31043     939    BENGALURU    KARNATAKA            560061           IN  False  \n",
       "31044    1115  PITHORAGARH  UTTARAKHAND            262501           IN  False  \n",
       "31045     399        DHULE  MAHARASHTRA            424006           IN  False  \n",
       "31046     791     WARANGAL    TELANGANA            506001           IN  False  \n",
       "\n",
       "[31047 rows x 19 columns]"
      ]
     },
     "execution_count": 16,
     "metadata": {},
     "output_type": "execute_result"
    }
   ],
   "source": [
    "import pandas as pd\n",
    "ps=pd.read_csv(\"data.csv\",header=0,sep=\",\")\n",
    "ps"
   ]
  },
  {
   "cell_type": "code",
   "execution_count": null,
   "id": "9c52d2d0",
   "metadata": {},
   "outputs": [],
   "source": []
  },
  {
   "cell_type": "code",
   "execution_count": null,
   "id": "21810e0c",
   "metadata": {},
   "outputs": [],
   "source": []
  },
  {
   "cell_type": "code",
   "execution_count": null,
   "id": "e338190e",
   "metadata": {},
   "outputs": [],
   "source": []
  }
 ],
 "metadata": {
  "kernelspec": {
   "display_name": "Python 3 (ipykernel)",
   "language": "python",
   "name": "python3"
  },
  "language_info": {
   "codemirror_mode": {
    "name": "ipython",
    "version": 3
   },
   "file_extension": ".py",
   "mimetype": "text/x-python",
   "name": "python",
   "nbconvert_exporter": "python",
   "pygments_lexer": "ipython3",
   "version": "3.11.4"
  }
 },
 "nbformat": 4,
 "nbformat_minor": 5
}
